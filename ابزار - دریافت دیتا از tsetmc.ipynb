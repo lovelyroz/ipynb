{
 "cells": [
  {
   "cell_type": "code",
   "execution_count": null,
   "id": "7cdb0915",
   "metadata": {},
   "outputs": [],
   "source": [
    "! pip install scikit-learn"
   ]
  },
  {
   "cell_type": "code",
   "execution_count": null,
   "id": "5aa928e0",
   "metadata": {},
   "outputs": [],
   "source": [
    "import finpy_tse as fpy\n",
    "import pandas as pd\n",
    "import sqlite3 as db\n",
    "import pytse_client as tse\n",
    "import datetime\n",
    "import matplotlib.pyplot as plt\n",
    "from sklearn.preprocessing import StandardScaler\n",
    "\n",
    "portfollio = 'افران توان اوج پالایش وخارزم اعتلا وبوعلی تمشک گوهران وهامون ومدیر وتوسم وسبحان بوعلی وسکاب مدیریت وصنعت کیان وسپه ومهان'\n",
    "portfollio_eng = 'vmahan vsepah kian vsanaat modiriat vsakab booali vsobhan vtosam vmodir vhamoon goharan tameshk vbooali alaa vkharazm palayesh owj tavaan afran'\n",
    "my_pf = portfollio.split()\n",
    "my_pf_eng = portfollio_eng.split()\n",
    "my_pf_eng = my_pf_eng[::-1]\n",
    "\n"
   ]
  },
  {
   "cell_type": "markdown",
   "id": "9eb2667c",
   "metadata": {},
   "source": [
    "## دریافت ریز معاملات"
   ]
  },
  {
   "cell_type": "code",
   "execution_count": null,
   "id": "e9fae4fc",
   "metadata": {},
   "outputs": [],
   "source": [
    "i = 1\n",
    "print(my_pf_eng[i])\n",
    "symbol = my_pf[i]\n",
    "eng = my_pf_eng[i]\n",
    "symbol"
   ]
  },
  {
   "cell_type": "code",
   "execution_count": null,
   "id": "8611eca4",
   "metadata": {},
   "outputs": [],
   "source": [
    "symbol = my_pf[i]\n",
    "eng_symbol = my_pf_eng[i]\n",
    "df_price_details =fpy.Get_IntradayTrades_History(\n",
    "                    stock=symbol,\n",
    "                    start_date='1402-04-13',\n",
    "                    end_date='1402-04-14',\n",
    "                    jalali_date=True,\n",
    "                    combined_datatime=False,\n",
    "                    show_progress=True)\n",
    "df_price_details.head()"
   ]
  },
  {
   "cell_type": "markdown",
   "id": "24f3f680",
   "metadata": {},
   "source": [
    "اضافه کردن ریز معاملات به دیتا بیس"
   ]
  },
  {
   "cell_type": "code",
   "execution_count": null,
   "id": "f43d5598",
   "metadata": {},
   "outputs": [],
   "source": [
    "conn = db.connect('my_bours_price_details.db')\n",
    "cur = conn.cursor()\n",
    "\n",
    "df_price_details.reset_index(inplace=True)\n",
    "df_price_details_new = df_price_details.rename(columns={\"J-Date\": \"Date\"})    \n",
    "df_price_details_new.to_sql(eng_symbol,conn,if_exists='append',index=False)\n",
    "\n",
    "conn.commit()\n",
    "cur.close()\n",
    "conn.close()"
   ]
  },
  {
   "cell_type": "markdown",
   "id": "71d2e07d",
   "metadata": {},
   "source": [
    "## دریافت عمق فقط برای یک نماد"
   ]
  },
  {
   "cell_type": "code",
   "execution_count": null,
   "id": "0e159a38",
   "metadata": {},
   "outputs": [],
   "source": [
    "startDate = '1402-04-10'\n",
    "endDate = '1402-04-14'\n",
    "stk = symbol\n",
    "\n",
    "conn = db.connect('my_bours_omgh.db')\n",
    "cur = conn.cursor()\n",
    "df_omgh = fpy.Get_IntradayOB_History(\n",
    "            stock= stk ,\n",
    "            start_date= startDate,\n",
    "            end_date= endDate,\n",
    "            jalali_date=True,\n",
    "            combined_datatime=False,\n",
    "            show_progress=True)\n",
    "print('done')\n",
    "\n",
    "df_omgh.reset_index(inplace=True)\n",
    "df_omgh = df_omgh.rename(columns={\"J-Date\": \"Date\"})\n",
    "df_omgh.to_sql(f'{eng}_omgh_daily',conn,if_exists='append',index=False)\n",
    "\n",
    "conn.commit()\n",
    "cur.close()\n",
    "conn.close()"
   ]
  },
  {
   "cell_type": "markdown",
   "id": "c50dab9e",
   "metadata": {},
   "source": [
    "## دریافت عمق فقط برای چند نماد"
   ]
  },
  {
   "cell_type": "code",
   "execution_count": null,
   "id": "db82cf9f",
   "metadata": {},
   "outputs": [],
   "source": [
    "startDate = '1402-01-28'\n",
    "endDate = '1402-01-30'\n",
    "\n",
    "conn = db.connect('my_bours_omgh.db')\n",
    "cur = conn.cursor()\n",
    "\n",
    "\n",
    "for sym,eng in zip(my_pf,my_pf_eng):\n",
    "    df_omgh = fpy.Get_IntradayOB_History(\n",
    "            stock=sym,\n",
    "            start_date= startDate,\n",
    "            end_date= endDate,\n",
    "            jalali_date=True,\n",
    "            combined_datatime=False,\n",
    "            show_progress=True)\n",
    "    \n",
    "    df_omgh.reset_index(inplace=True)\n",
    "    df_omgh_new = df_omgh.rename(columns={\"J-Date\": \"Date\"})    \n",
    "    df_omgh_new.to_sql(f'{eng}_omgh_daily',conn,if_exists='append',index=False)\n",
    "    print(f'{sym} is done')\n",
    "\n",
    "\n",
    "# close the connection object\n",
    "conn.commit()\n",
    "cur.close()\n",
    "conn.close()"
   ]
  },
  {
   "cell_type": "markdown",
   "id": "5536c829",
   "metadata": {},
   "source": [
    "# دریافت قیمت روزانه "
   ]
  },
  {
   "cell_type": "code",
   "execution_count": null,
   "id": "8cae2d19",
   "metadata": {},
   "outputs": [],
   "source": [
    "conn = db.connect('daily_price.db')\n",
    "cur = conn.cursor()\n",
    "\n",
    "for sym,eng_sym in zip(my_pf,my_pf_eng):\n",
    "    ticker = tse.Ticker(sym)\n",
    "    res = tse.download(symbols=sym, write_to_csv=False)\n",
    "    df = res[sym]\n",
    "    df.to_sql(f'{eng_sym}_daily',conn,if_exists='append',index=False)\n",
    "    print(f'{sym} is done')\n",
    "\n",
    "conn.commit()\n",
    "cur.close()\n",
    "conn.close()"
   ]
  },
  {
   "cell_type": "markdown",
   "id": "ed9d4272",
   "metadata": {},
   "source": [
    "#  بارگزاری دیتاهای پرتفو از دیتا بیس"
   ]
  },
  {
   "cell_type": "code",
   "execution_count": null,
   "id": "4b84d518",
   "metadata": {},
   "outputs": [],
   "source": [
    "conn = db.connect('daily_price.db')\n",
    "chart_data = {}\n",
    "\n",
    "for com in my_pf_eng:\n",
    "    com_value = pd.read_sql(f\"SELECT * FROM {com}_daily\", conn)\n",
    "    chart_data.update({com : com_value})\n",
    "\n",
    "\n",
    "conn.close()\n",
    "chart_data"
   ]
  },
  {
   "cell_type": "code",
   "execution_count": null,
   "id": "68c08383",
   "metadata": {},
   "outputs": [],
   "source": [
    "x = new_df.index\n",
    "y = new_df['kian']\n",
    "y2 = new_df['vsakab']\n",
    "\n",
    "fig, ax = plt.subplots()\n",
    "ax.plot(x, y)\n",
    "ax.plot(x, y2)\n",
    "\n",
    "plt.show()\n"
   ]
  },
  {
   "cell_type": "code",
   "execution_count": null,
   "id": "d70d170c",
   "metadata": {},
   "outputs": [],
   "source": []
  },
  {
   "cell_type": "code",
   "execution_count": null,
   "id": "16d01267",
   "metadata": {},
   "outputs": [],
   "source": [
    "df1 = pd.DataFrame({'date': ['2022-01-01', '2022-01-02', '2022-01-03'], 'A': [1, 2, 3], 'B': [4, 5, 6]})\n",
    "df2 = pd.DataFrame({'date': ['2022-01-01', '2022-01-03'], 'A': [7, 8], 'B': [9, 10]})\n",
    "df3 = pd.DataFrame({'date': ['2022-01-02'], 'A': [11], 'B': [12]})\n",
    "\n",
    "new_df = pd.concat([df1.set_index('date')['A'].rename('afran'),\n",
    "                    df2.set_index('date')['A'].rename('tavaan'), df3.set_index('date')['A'].rename('kian')], axis=1)\n",
    "\n",
    "print(new_df)"
   ]
  },
  {
   "cell_type": "markdown",
   "id": "17aaabe1",
   "metadata": {},
   "source": [
    "# بارگزاری چند تیبل از یک دیتابیس"
   ]
  },
  {
   "cell_type": "code",
   "execution_count": null,
   "id": "0da2d992",
   "metadata": {},
   "outputs": [],
   "source": [
    "conn = db.connect('daily_price.db')\n",
    "\n",
    "# Execute a SQL query and store the results in a Pandas dataframe\n",
    "df_tables = pd.read_sql('SELECT * FROM table1 JOIN table2 ON table1.id = table2.id JOIN table3 ON table1.id = table3.id JOIN table4 ON table1.id = table4.id', conn)\n",
    "\n",
    "# Close the database connection\n",
    "conn.close()"
   ]
  },
  {
   "cell_type": "markdown",
   "id": "ad3b9698",
   "metadata": {},
   "source": [
    "# بارگزاری چند ستون از یک تیبل"
   ]
  },
  {
   "cell_type": "code",
   "execution_count": null,
   "id": "9cfa46de",
   "metadata": {},
   "outputs": [],
   "source": [
    "conn = db.connect('daily_price.db')\n",
    "\n",
    "# Execute a SQL query and store the results in a Pandas dataframe\n",
    "df_tavan = pd.read_sql('SELECT date, adjClose, volume, count FROM توان_daily_price', conn)\n",
    "\n",
    "# Close the database connection\n",
    "conn.close()\n",
    "df_tavan"
   ]
  },
  {
   "cell_type": "code",
   "execution_count": null,
   "id": "874550db",
   "metadata": {},
   "outputs": [],
   "source": [
    ">>> from sklearn.preprocessing import Normalizer\n",
    ">>> X = [[4, 1, 2, 2],\n",
    "...      [1, 3, 9, 3],\n",
    "...      [5, 7, 5, 1]]\n",
    ">>> transformer = Normalizer().fit(X)  # fit does nothing.\n",
    ">>> transformer"
   ]
  },
  {
   "cell_type": "code",
   "execution_count": null,
   "id": "dc072f60",
   "metadata": {},
   "outputs": [],
   "source": [
    "transformer.transform(X)"
   ]
  },
  {
   "cell_type": "code",
   "execution_count": null,
   "id": "02de5437",
   "metadata": {},
   "outputs": [],
   "source": []
  }
 ],
 "metadata": {
  "kernelspec": {
   "display_name": "Python 3 (ipykernel)",
   "language": "python",
   "name": "python3"
  },
  "language_info": {
   "codemirror_mode": {
    "name": "ipython",
    "version": 3
   },
   "file_extension": ".py",
   "mimetype": "text/x-python",
   "name": "python",
   "nbconvert_exporter": "python",
   "pygments_lexer": "ipython3",
   "version": "3.9.16"
  }
 },
 "nbformat": 4,
 "nbformat_minor": 5
}
