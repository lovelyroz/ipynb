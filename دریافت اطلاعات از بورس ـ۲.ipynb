{
 "cells": [
  {
   "cell_type": "code",
   "execution_count": 2,
   "id": "ac9a12c9",
   "metadata": {},
   "outputs": [],
   "source": [
    "import pytse_client as tse\n",
    "import datetime"
   ]
  },
  {
   "cell_type": "code",
   "execution_count": null,
   "id": "6d359f7e",
   "metadata": {},
   "outputs": [],
   "source": []
  },
  {
   "cell_type": "code",
   "execution_count": 3,
   "id": "51487611",
   "metadata": {},
   "outputs": [
    {
     "name": "stdout",
     "output_type": "stream",
     "text": [
      "                                  shareholder        shares  percentage  \\\n",
      "0  ETFكدرزروصندوقهاي سرمايه گذاري قابل معامله  1.230500e+09       49.41   \n",
      "1               شركت سبدگردان مفيد-سهامي خاص-  9.760000e+07        3.91   \n",
      "2                  PRXسبد-شرك15835--موس07209-  3.309079e+07        1.32   \n",
      "3                                   شخص حقيقي  3.040000e+07        1.22   \n",
      "\n",
      "     change    \n",
      "0       0.0    \n",
      "1  500000.0    \n",
      "2       0.0    \n",
      "3       0.0    \n"
     ]
    }
   ],
   "source": [
    "ticker = tse.Ticker(\"توان\")\n",
    "print(ticker.shareholders)  # اطلاعات سهام‌داران عمده"
   ]
  },
  {
   "cell_type": "markdown",
   "id": "a716df45",
   "metadata": {},
   "source": [
    "## اطلاعات لحظه ای سهم"
   ]
  },
  {
   "cell_type": "code",
   "execution_count": null,
   "id": "bc481d2a",
   "metadata": {},
   "outputs": [],
   "source": [
    "real_time_data = ticker.get_ticker_real_time_info_response()\n",
    "real_time_data"
   ]
  },
  {
   "cell_type": "code",
   "execution_count": null,
   "id": "8335e50f",
   "metadata": {},
   "outputs": [],
   "source": [
    "print('پیشنهادات خرید:',real_time_data.buy_orders) # پیشنهادات خرید\n",
    "print('پیشنهادات فروش: ',real_time_data.sell_orders) # پیشنهادات فروش\n",
    "print('قیمت بهترین تقاضا: ',real_time_data.best_supply_price)  # قیمت بهترین تقاضا\n",
    "print('حجم بهترین تقاضا: ',real_time_data.best_supply_vol)  # حجم بهترین تقاضا\n",
    "print('قیمت بهترین عرضه: ',real_time_data.best_demand_price)  # قیمت بهترین عرضه\n",
    "print('حجم بهترین عرضه: ',real_time_data.best_demand_vol)  # حجم بهترین عرضه\n",
    "print('وضعیت نماد: ',real_time_data.state)  # وضعیت نماد\n",
    "print('قیمت آخرین معامله: ',real_time_data.last_price)  # قیمت آخرین معامله\n",
    "print('قیمت پایانی: ',real_time_data.adj_close)  # قیمت پایانی\n",
    "print('قیمت دیروز: ',real_time_data.yesterday_price)  # قیمت دیروز\n",
    "print('قیمت اولین معامله: ',real_time_data.open_price)  # قیمت اولین معامله\n",
    "print('قیمت حداکثر: ',real_time_data.high_price)  # قیمت حداکثر\n",
    "print('قیمت حداقل: ',real_time_data.low_price)  # قیمت حداقل\n",
    "print('تعداد معاملات: ',real_time_data.count)  # تعداد معاملات\n",
    "print('حجم معاملات: ',real_time_data.volume)  # حجم معاملات\n",
    "print('ارزش معاملات: ',real_time_data.value)  # ارزش معاملات\n",
    "print('آخرین اطلاعات قیمت ناشی از تغییرات شرکتی و معاملاتوضعیت نماد: ',real_time_data.last_date)  # آخرین اطلاعات قیمت ناشی از تغییرات شرکتی و معاملاتوضعیت نماد"
   ]
  },
  {
   "cell_type": "code",
   "execution_count": null,
   "id": "4cb890c7",
   "metadata": {},
   "outputs": [],
   "source": [
    "# اطلاعات خرید و فروش حقیقی و حقوقی\n",
    "print('تعداد خرید حقیقی: ',real_time_data.individual_trade_summary.buy_count)\n",
    "print('حجم خرید حقیقی: ',real_time_data.individual_trade_summary.buy_vol)\n",
    "print('تعداد فروش حقیقی: ',real_time_data.individual_trade_summary.sell_count)\n",
    "print('حجم فروش حقیقی: ',real_time_data.individual_trade_summary.sell_vol)\n",
    "print('تعداد خرید حقوقی:',real_time_data.corporate_trade_summary.buy_count)\n",
    "print('حجم خرید حقوقی:',real_time_data.corporate_trade_summary.buy_vol)\n",
    "print('تعداد فروش حقوقی:',real_time_data.corporate_trade_summary.sell_count)\n",
    "print('حجم فروش حقوقی:',real_time_data.corporate_trade_summary.sell_vol)"
   ]
  },
  {
   "cell_type": "code",
   "execution_count": null,
   "id": "615cd828",
   "metadata": {},
   "outputs": [],
   "source": [
    "# پیشنهادات فروش\n",
    "for sell_order in real_time_data.sell_orders:\n",
    "    print('حجم فروش',sell_order.volume, 'تعداد',sell_order.price,'قیمت فروش' ,sell_order.count)\n",
    "\n",
    "# پیشنهادات خرید\n",
    "for buy_order in real_time_data.buy_orders:\n",
    "    print('حجم خرید',buy_order.volume,'تعداد', buy_order.count,'قیمت خرید' , buy_order.price)\n"
   ]
  },
  {
   "cell_type": "markdown",
   "id": "7ea5ae49",
   "metadata": {},
   "source": [
    "## ریز معاملات آخرین روز معاملاتی سهام"
   ]
  },
  {
   "cell_type": "code",
   "execution_count": null,
   "id": "1a2f4211",
   "metadata": {},
   "outputs": [],
   "source": [
    "\n",
    "trade_details = ticker.get_trade_details()\n",
    "print(trade_details)"
   ]
  },
  {
   "cell_type": "code",
   "execution_count": null,
   "id": "15d019b5",
   "metadata": {},
   "outputs": [],
   "source": [
    "trade_details"
   ]
  },
  {
   "cell_type": "markdown",
   "id": "b3e51a3c",
   "metadata": {},
   "source": [
    "## دریافت قیمت روزانه"
   ]
  },
  {
   "cell_type": "code",
   "execution_count": 4,
   "id": "a6305bfa",
   "metadata": {
    "collapsed": true
   },
   "outputs": [
    {
     "data": {
      "text/plain": [
       "{'توان':           date     open     high      low  adjClose          value     volume  \\\n",
       " 0   2022-11-05  10000.0  10000.0  10000.0   10000.0  4900000000000  490000000   \n",
       " 1   2022-11-20  10410.0  10580.0  10310.0   10466.0   260024616265   24844766   \n",
       " 2   2022-11-21  10560.0  10560.0  10260.0   10399.0   285706309145   27474810   \n",
       " 3   2022-11-22  10353.0  10550.0  10309.0   10433.0   150759384997   14450059   \n",
       " 4   2022-11-23  10510.0  10579.0  10481.0   10539.0   102852068153    9759567   \n",
       " ..         ...      ...      ...      ...       ...            ...        ...   \n",
       " 145 2023-07-03  18800.0  20130.0  18700.0   19587.0  1362778161331   69575887   \n",
       " 146 2023-07-04  19900.0  20443.0  19726.0   20120.0   811465322893   40331724   \n",
       " 147 2023-07-05  19870.0  20099.0  19560.0   19874.0   399267026763   20089639   \n",
       " 148 2023-07-08  19890.0  20148.0  19300.0   19770.0   350752587419   17741855   \n",
       " 149 2023-07-09  19373.0  19563.0  18830.0   19147.0   406715481330   21241405   \n",
       " \n",
       "      count  yesterday    close  \n",
       " 0     9303    10000.0  10000.0  \n",
       " 1     2160    10000.0  10501.0  \n",
       " 2     2280    10466.0  10434.0  \n",
       " 3     1395    10399.0  10522.0  \n",
       " 4     1140    10433.0  10538.0  \n",
       " ..     ...        ...      ...  \n",
       " 145   6729    18585.0  20002.0  \n",
       " 146   6741    19587.0  19833.0  \n",
       " 147   3825    20120.0  19785.0  \n",
       " 148   3815    19874.0  19428.0  \n",
       " 149   4296    19770.0  19010.0  \n",
       " \n",
       " [150 rows x 10 columns]}"
      ]
     },
     "execution_count": 4,
     "metadata": {},
     "output_type": "execute_result"
    }
   ],
   "source": [
    "df = tse.download(symbols=\"توان\", write_to_csv=False)\n",
    "df"
   ]
  },
  {
   "cell_type": "markdown",
   "id": "7dd54632",
   "metadata": {},
   "source": [
    "## پنج سفارش آخر خرید و فروش"
   ]
  },
  {
   "cell_type": "code",
   "execution_count": null,
   "id": "91fed340",
   "metadata": {},
   "outputs": [],
   "source": [
    "real_time_data = ticker.get_ticker_real_time_info_response()\n",
    "\n",
    "# پیشنهادات فروش\n",
    "for sell_order in real_time_data.sell_orders:\n",
    "    print('حجم فروش',sell_order.volume, 'تعداد',sell_order.price,'قیمت فروش' ,sell_order.count)\n",
    "\n",
    "# پیشنهادات خرید\n",
    "for buy_order in real_time_data.buy_orders:\n",
    "    print('حجم خرید',buy_order.volume,'تعداد', buy_order.count,'قیمت خرید' , buy_order.price)"
   ]
  },
  {
   "cell_type": "code",
   "execution_count": null,
   "id": "e7da8cff",
   "metadata": {},
   "outputs": [],
   "source": [
    "df_buy_orders = real_time_data.sell_orders\n",
    "df_buy_orders[0]"
   ]
  },
  {
   "cell_type": "markdown",
   "id": "90f708c7",
   "metadata": {},
   "source": [
    "### اطلاعات دیگر"
   ]
  },
  {
   "cell_type": "code",
   "execution_count": null,
   "id": "8c5909c2",
   "metadata": {},
   "outputs": [],
   "source": [
    "print(ticker.eps)  # EPS\n",
    "print(ticker.p_e_ratio)  # P/E\n",
    "print(ticker.group_p_e_ratio)  # group P/E\n",
    "print(ticker.nav_date)  # last date of NAV تاریخ بروزرسانی خالص ارزش دارایی‌ها ویژه صندوق‌ها می‌باشد\n",
    "print(ticker.url)"
   ]
  },
  {
   "cell_type": "code",
   "execution_count": null,
   "id": "552c36d5",
   "metadata": {},
   "outputs": [],
   "source": [
    "print('جمع درصد سهام‌داران عمده:',ticker.shareholders.percentage.sum())\n",
    "print('درصد سهام شناور:',100 - ticker.shareholders.percentage.sum())"
   ]
  },
  {
   "cell_type": "code",
   "execution_count": null,
   "id": "9542f995",
   "metadata": {},
   "outputs": [],
   "source": [
    "print(ticker.history)  # سابقه قیمت سهم\n",
    "print(ticker.client_types)  # حقیقی حقوقی\n",
    "print(ticker.title)  # نام شرکت\n",
    "print(ticker.url)  # آدرس صفحه سهم\n",
    "http://tsetmc.com/Loader.aspx?ParTree=151311&i=19040514831923530\n",
    "print(ticker.group_name)  # نام گروه\n",
    "\n",
    "print(ticker.fiscal_year)  # سال مالی\n",
    "\n",
    "print(ticker.eps)  # EPS\n",
    "\n",
    "print(ticker.p_e_ratio)  # P/E\n",
    "\n",
    "print(ticker.group_p_e_ratio)  # group P/E\n",
    "\n",
    "print(ticker.nav)  # NAV خالص ارزش دارایی‌ها ویژه صندوق‌ها می‌باشد\n",
    "\n",
    "print(ticker.nav_date)  # last date of NAV تاریخ بروزرسانی خالص ارزش دارایی‌ها ویژه صندوق‌ها می‌باشد\n",
    "\n",
    "print(ticker.psr)  # PSR این نسبت ویژه شرکت‌های تولیدی است\n",
    "\n",
    "print(ticker.p_s_ratio)  # P/S این نسبت ویژه شرکت‌های تولیدی است\n",
    "\n",
    "print(ticker.base_volume)  # حجم مبنا\n",
    "\n",
    "print(ticker.state)  # وضعیت نماد\n",
    "\n",
    "print(ticker.last_price)  # آخرین معامله\n",
    "\n",
    "print(ticker.adj_close)  # قیمت پایانی\n",
    "\n",
    "print(ticker.yesterday_price)  # قیمت دیروز\n",
    "\n",
    "print(ticker.open_price)  # قیمت اولین معامله\n",
    "\n",
    "print(ticker.high_price)  # قیمت حداکثر\n",
    "\n",
    "print(ticker.low_price)  # قیمت حداقل\n",
    "\n",
    "print(ticker.count)  # تعداد معاملات\n",
    "\n",
    "print(ticker.volume)  # حجم معاملات\n",
    "\n",
    "print(ticker.value)  # ارزش معاملات\n",
    "\n",
    "print(ticker.last_date)  # تاریخ آخرین اطلاعات قیمت پایانی ناشی از تغییرات شرکتی و معاملات\n",
    "\n",
    "print(ticker.flow)  # عنوان بازار\n",
    "\n",
    "print(ticker.sta_max)  # حداکثر قیمت مجاز\n",
    "\n",
    "print(ticker.sta_min)  # حداقل قیمت مجاز\n",
    "\n",
    "print(ticker.min_week)  # حداقل قیمت هفته اخیر\n",
    "\n",
    "print(ticker.max_week)  # حداکثر قیمت هفته اخیر\n",
    "\n",
    "print(ticker.min_year)  # حداقل قیمت بازه سال\n",
    "\n",
    "print(ticker.max_year)  # حداکثر قیمت بازه سال\n",
    "\n",
    "print(ticker.month_average_volume)  # میانگین حجم ماه\n",
    "\n",
    "print(ticker.float_shares)  # درصد سهام شناور\n",
    "\n",
    "print(ticker.best_supply_price)  # قیمت بهترین تقاضا\n",
    "\n",
    "print(ticker.best_supply_vol)  # حجم بهترین تقاضا\n",
    "\n",
    "print(ticker.best_demand_price)  # قیمت بهترین عرضه\n",
    "\n",
    "print(ticker.best_demand_vol)  # حجم بهترین عرضه\n",
    "\n",
    "print(ticker.total_shares)  # تعداد سهام\n",
    "print(ticker.market_cap) # ارزش بازار شرکت\n",
    "print(ticker.shareholders)  # اطلاعات سهام‌داران عمده\n",
    "print(ticker.get_shareholders_history())) # تاریخچه‌ی سهام‌داران عمده\n",
    "print(ticker.get_trade_details())  # ریز معاملات روز جاری\n",
    "print(ticker.get_ticker_real_time_info_response()) # اطلاعات لحظه‌ای مانند قیمت و پیشنهادات خرید و فروش"
   ]
  },
  {
   "cell_type": "code",
   "execution_count": null,
   "id": "638cf23a",
   "metadata": {},
   "outputs": [],
   "source": []
  },
  {
   "cell_type": "code",
   "execution_count": null,
   "id": "fa97e395",
   "metadata": {},
   "outputs": [],
   "source": []
  }
 ],
 "metadata": {
  "kernelspec": {
   "display_name": "Python 3 (ipykernel)",
   "language": "python",
   "name": "python3"
  },
  "language_info": {
   "codemirror_mode": {
    "name": "ipython",
    "version": 3
   },
   "file_extension": ".py",
   "mimetype": "text/x-python",
   "name": "python",
   "nbconvert_exporter": "python",
   "pygments_lexer": "ipython3",
   "version": "3.9.16"
  }
 },
 "nbformat": 4,
 "nbformat_minor": 5
}
