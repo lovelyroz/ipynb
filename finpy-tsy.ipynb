{
 "cells": [
  {
   "cell_type": "code",
   "execution_count": null,
   "id": "c416c101",
   "metadata": {},
   "outputs": [],
   "source": [
    "!pip install finpy-tse"
   ]
  },
  {
   "cell_type": "code",
   "execution_count": null,
   "id": "aa967c23",
   "metadata": {
    "scrolled": false
   },
   "outputs": [],
   "source": [
    "import pandas as pd\n",
    "# import pytse_client as tse"
   ]
  },
  {
   "cell_type": "code",
   "execution_count": null,
   "id": "9942259d",
   "metadata": {},
   "outputs": [],
   "source": [
    "for i in my_pf:\n",
    "    df = tse.download(symbols=my_pf, write_to_csv=True, include_jdate=True)"
   ]
  },
  {
   "cell_type": "code",
   "execution_count": null,
   "id": "4ca159d8",
   "metadata": {},
   "outputs": [],
   "source": [
    "import numpy as np\n",
    "import pandas as pd\n",
    "import finpy_tse as fpy\n",
    "import mplfinance as mplf\n",
    "import scipy.stats as stt\n",
    "import matplotlib.pyplot as plt"
   ]
  },
  {
   "cell_type": "code",
   "execution_count": null,
   "id": "7376bda9",
   "metadata": {},
   "outputs": [],
   "source": [
    "portfollio = 'افران توان اوج پالایش وخارزم اعتلا وبوعلی تمشک گوهران وهامون ومدیر وتوسم وسبحان بوعلی وسکاب مدیریت وصنعت کیان وسپه ومهان'\n",
    "#portfollio_eng = 'vmahan vsepah kian vsanaat modiriat vsakab booali vsobhan vtosam vmodir vhamoon goharan tameshk vbooali alaa vkharazm palayesh owj tavaan afran''\n",
    "my_pf = portfollio.split()\n",
    "#my_pf_eng = portfollio_eng.split()"
   ]
  },
  {
   "cell_type": "code",
   "execution_count": null,
   "id": "31049844",
   "metadata": {},
   "outputs": [],
   "source": [
    "df =   fpy.Get_Price_History(\n",
    "    stock='توان',\n",
    "    start_date='1402-02-20',\n",
    "    end_date='1402-02-23',\n",
    "    ignore_date= False,\n",
    "    adjust_price=False,\n",
    "    show_weekday=False,\n",
    "    double_date=False)\n",
    "#df.to_csv(f'{i}0217.csv', index=False)\n",
    "# df.to_excel(f\"{i}0217.xlsx\")\n",
    "df\n"
   ]
  },
  {
   "cell_type": "code",
   "execution_count": null,
   "id": "4b5ebf69",
   "metadata": {},
   "outputs": [],
   "source": [
    "df2 = fpy.Get_IntradayTrades_History(\n",
    "    stock='پالایش',\n",
    "    start_date= '1402-02-31',\n",
    "    end_date= '1402-02-31',\n",
    "    jalali_date=True,\n",
    "    combined_datatime=False,\n",
    "    show_progress=True)\n",
    "df2"
   ]
  },
  {
   "cell_type": "code",
   "execution_count": null,
   "id": "c41768f8",
   "metadata": {},
   "outputs": [],
   "source": [
    "ticker_1 = ['1402-02-31','1402-02-30','1402-02-27','1402-02-25','1402-02-24',\n",
    "            '1402-02-23','1402-02-20','1402-02-19','1402-02-18','1402-02-17']\n",
    "ticker_2 = ['231','230','227','225','224','223','220','219','218','217']\n",
    "\n",
    "\n",
    "# df2 = fpy.Get_IntradayTrades_History(\n",
    "#     stock='اوج',\n",
    "#     start_date= ticker_1,\n",
    "#     end_date= x\n",
    "#     jalali_date=True,\n",
    "#     combined_datatime=False,\n",
    "#     show_progress=True)\n",
    "# df2.to_excel(f'owj{y}.xlsx')\n",
    "\n",
    "path = 'palayesh.xlsx'\n",
    "writer = pd.ExcelWriter(path, engine = 'openpyxl')\n",
    "\n",
    "for x,y in zip(ticker_1,ticker_2):\n",
    "    df2 = fpy.Get_IntradayTrades_History(\n",
    "        stock='پالایش',\n",
    "        start_date= x,\n",
    "        end_date= x,\n",
    "        jalali_date=True,\n",
    "        combined_datatime=False,\n",
    "        show_progress=True)\n",
    "    \n",
    "    \n",
    "    \n",
    "    df2.to_excel(writer, sheet_name = y)    \n",
    "\n",
    "    print(f'done: {y}')\n",
    "    \n",
    "writer.close()"
   ]
  },
  {
   "cell_type": "code",
   "execution_count": null,
   "id": "98371dce",
   "metadata": {},
   "outputs": [],
   "source": [
    "writer = pd.ExcelWriter(path, engine = 'xlsxwriter')\n",
    "df1.to_excel(writer, sheet_name = 'x1')\n",
    "df2.to_excel(writer, sheet_name = 'x2')\n",
    "writer.close()"
   ]
  },
  {
   "cell_type": "code",
   "execution_count": null,
   "id": "c3c186b6",
   "metadata": {},
   "outputs": [],
   "source": [
    "df3 = fpy.Get_IntradayOB_History(\n",
    "    stock='توان',\n",
    "    start_date='1402-02-20',\n",
    "    end_date='1402-02-23',\n",
    "    jalali_date=True,\n",
    "    combined_datatime=False,\n",
    "    show_progress=True)\n",
    "df3"
   ]
  },
  {
   "cell_type": "code",
   "execution_count": null,
   "id": "a3b419cb",
   "metadata": {},
   "outputs": [],
   "source": [
    "df4 = fpy.Get_Queue_History(  # سابقه ارزش صف در زمان بسته‌شدن بازار\n",
    "    stock= 'توان',\n",
    "    start_date='1402-02-20',\n",
    "    end_date='1402-02-23',\n",
    "    show_per_capita=True,\n",
    "    show_weekday=False,\n",
    "    double_date=False,\n",
    "    show_progress=True)\n",
    "df4"
   ]
  },
  {
   "cell_type": "code",
   "execution_count": null,
   "id": "0d14b7bd",
   "metadata": {},
   "outputs": [],
   "source": [
    "df5 = fpy.Get_CWI_History(  # سابقه شاخص کل\n",
    "    start_date='1402-02-20',\n",
    "    end_date='1402-02-23',\n",
    "    ignore_date=False,\n",
    "    just_adj_close=False,\n",
    "    show_weekday=False,\n",
    "    double_date=False)\n",
    "df5 "
   ]
  },
  {
   "cell_type": "code",
   "execution_count": null,
   "id": "7b5746fc",
   "metadata": {},
   "outputs": [],
   "source": [
    "df6 = fpy.Get_EWI_History(  # سابقه شاخص کل هم‌وزن\n",
    "    start_date='1402-02-20',\n",
    "    end_date='1402-02-23',\n",
    "    ignore_date=False,\n",
    "    just_adj_close=True,\n",
    "    show_weekday=False,\n",
    "    double_date=False)\n",
    "df6 "
   ]
  },
  {
   "cell_type": "code",
   "execution_count": null,
   "id": "55f61412",
   "metadata": {},
   "outputs": [],
   "source": [
    "df7 = fpy.Get_ACT50_History(    # سابقه شاخص 50 شرکت فعال‌تر\n",
    "    start_date='1402-02-20',\n",
    "    end_date='1402-02-23',\n",
    "    ignore_date=False,\n",
    "    just_adj_close=False,\n",
    "    show_weekday=False,\n",
    "    double_date=False)\n",
    "df7"
   ]
  },
  {
   "cell_type": "code",
   "execution_count": null,
   "id": "964e0750",
   "metadata": {},
   "outputs": [],
   "source": [
    "df8 = fpy.Get_LCI30_History(   #  سابقه شاخص 30 شرکت بزرگ\n",
    "    start_date='1402-02-20',\n",
    "    end_date='1402-02-23',\n",
    "    ignore_date=False,\n",
    "    just_adj_close=False,\n",
    "    show_weekday=False,\n",
    "    double_date=False)\n",
    "df8"
   ]
  },
  {
   "cell_type": "code",
   "execution_count": null,
   "id": "10c30de3",
   "metadata": {},
   "outputs": [],
   "source": [
    "fpy.Build_Market_StockList(\n",
    "    bourse=True,\n",
    "    farabourse=True,\n",
    "    payeh=True,\n",
    "    detailed_list=True,\n",
    "    show_progress=True,\n",
    "    save_excel=True,\n",
    "    save_csv=True,\n",
    "    save_path='D:/FinPy-TSE Data/')"
   ]
  },
  {
   "cell_type": "code",
   "execution_count": null,
   "id": "e83232c0",
   "metadata": {},
   "outputs": [],
   "source": [
    "df3.to_excel('omgh_tavan.xlsx')"
   ]
  },
  {
   "cell_type": "code",
   "execution_count": null,
   "id": "a743e6bd",
   "metadata": {},
   "outputs": [],
   "source": []
  }
 ],
 "metadata": {
  "kernelspec": {
   "display_name": "Python 3 (ipykernel)",
   "language": "python",
   "name": "python3"
  },
  "language_info": {
   "codemirror_mode": {
    "name": "ipython",
    "version": 3
   },
   "file_extension": ".py",
   "mimetype": "text/x-python",
   "name": "python",
   "nbconvert_exporter": "python",
   "pygments_lexer": "ipython3",
   "version": "3.9.16"
  }
 },
 "nbformat": 4,
 "nbformat_minor": 5
}
