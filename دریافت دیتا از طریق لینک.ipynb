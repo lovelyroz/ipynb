{
 "cells": [
  {
   "cell_type": "code",
   "execution_count": null,
   "id": "8a27864c",
   "metadata": {},
   "outputs": [],
   "source": [
    "\n",
    "import requests"
   ]
  },
  {
   "cell_type": "code",
   "execution_count": null,
   "id": "24f4d4d5",
   "metadata": {},
   "outputs": [],
   "source": [
    "import requests as req\n",
    "import json\n",
    "\n",
    "url = \"http://cdn.tsetmc.com/api/Trade/GetTradeHistory/12490072956930435/20230606/true\"\n",
    "res = req.get(url)\n",
    "\n",
    "# Print the response\n",
    "\n",
    "print(res)"
   ]
  },
  {
   "cell_type": "code",
   "execution_count": null,
   "id": "f54cf4d2",
   "metadata": {},
   "outputs": [],
   "source": [
    "res_json = res.json()"
   ]
  },
  {
   "cell_type": "code",
   "execution_count": null,
   "id": "699601f9",
   "metadata": {
    "scrolled": true
   },
   "outputs": [],
   "source": [
    "res_json"
   ]
  },
  {
   "cell_type": "code",
   "execution_count": null,
   "id": "94b88bc1",
   "metadata": {},
   "outputs": [],
   "source": [
    "first_value = next(iter(res_json.values()))"
   ]
  },
  {
   "cell_type": "code",
   "execution_count": null,
   "id": "0c34146b",
   "metadata": {},
   "outputs": [],
   "source": [
    "data = []\n",
    "\n",
    "for index,key in enumerate(first_value):\n",
    "    raw_data = []\n",
    "    for value in first_value[index].values():    \n",
    "        raw_data.append(value)\n",
    "        \n",
    "    raw_data = raw_data[2:6]\n",
    "    data.append(raw_data)\n"
   ]
  },
  {
   "cell_type": "code",
   "execution_count": null,
   "id": "ba3d763f",
   "metadata": {},
   "outputs": [],
   "source": [
    "data"
   ]
  },
  {
   "cell_type": "code",
   "execution_count": null,
   "id": "c05eb227",
   "metadata": {},
   "outputs": [],
   "source": []
  }
 ],
 "metadata": {
  "kernelspec": {
   "display_name": "Python 3 (ipykernel)",
   "language": "python",
   "name": "python3"
  },
  "language_info": {
   "codemirror_mode": {
    "name": "ipython",
    "version": 3
   },
   "file_extension": ".py",
   "mimetype": "text/x-python",
   "name": "python",
   "nbconvert_exporter": "python",
   "pygments_lexer": "ipython3",
   "version": "3.9.16"
  }
 },
 "nbformat": 4,
 "nbformat_minor": 5
}
