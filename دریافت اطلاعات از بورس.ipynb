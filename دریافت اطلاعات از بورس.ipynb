{
 "cells": [
  {
   "cell_type": "code",
   "execution_count": null,
   "id": "0b70ca2e",
   "metadata": {},
   "outputs": [],
   "source": [
    "! pip install openpyxl"
   ]
  },
  {
   "cell_type": "code",
   "execution_count": null,
   "id": "5c645752",
   "metadata": {},
   "outputs": [],
   "source": [
    "import finpy_tse as fpy\n",
    "import pandas as pd\n",
    "import sqlite3 as db"
   ]
  },
  {
   "cell_type": "code",
   "execution_count": null,
   "id": "d7475c20",
   "metadata": {},
   "outputs": [],
   "source": [
    "portfollio = 'افران توان اوج پالایش وخارزم اعتلا وبوعلی تمشک گوهران وهامون ومدیر وتوسم وسبحان بوعلی وسکاب مدیریت وصنعت کیان وسپه ومهان'\n",
    "portfollio_eng = 'vmahan vsepah kian vsanaat modiriat vsakab booali vsobhan vtosam vmodir vhamoon goharan tameshk vbooali alaa vkharazm palayesh owj tavaan afran'\n",
    "my_pf = portfollio.split()\n",
    "my_pf_eng = portfollio_eng.split()\n",
    "my_pf_eng = my_pf_eng[::-1]"
   ]
  },
  {
   "cell_type": "markdown",
   "id": "37593fe0",
   "metadata": {},
   "source": [
    "اتصال به دیتابیس بورس"
   ]
  },
  {
   "cell_type": "markdown",
   "id": "4d6302a5",
   "metadata": {},
   "source": [
    "### جایگزین کردن پرتفوی جدید با پرتفوی قدیمی"
   ]
  },
  {
   "cell_type": "code",
   "execution_count": null,
   "id": "0198aaf7",
   "metadata": {},
   "outputs": [],
   "source": [
    "df_portfollio = pd.read_excel('portfollio.xlsx')\n",
    "conn = db.connect('bours.db')\n",
    "cur = conn.cursor()\n",
    "cur.execute(\"\"\"CREATE TABLE IF NOT EXISTS portfollio(\n",
    "    symbol TEXT PRIMARY KEY,\n",
    "    property INT,\n",
    "    average_purchase INT,\n",
    "    head_to_head INT,\n",
    "    last_price INT,\n",
    "    final_price INT,\n",
    "    cost INT,\n",
    "    current_value INT,\n",
    "    current_profit_percentage INT,\n",
    "    current_profit INT,\n",
    "    past_profit INT,\n",
    "    total_profit INT\n",
    "    )\n",
    "\"\"\")\n",
    "df_portfollio.to_sql('portfollio',conn,if_exists='replace',index=False)\n",
    "conn.commit()\n",
    "cur.close()\n",
    "conn.close()"
   ]
  },
  {
   "cell_type": "code",
   "execution_count": null,
   "id": "d16f498c",
   "metadata": {},
   "outputs": [],
   "source": []
  },
  {
   "cell_type": "markdown",
   "id": "be06a3bf",
   "metadata": {},
   "source": [
    "ابتدا عمق بازار دریافتی باید مناسب سازی جهت اضافه کردن با دیتابیس شود"
   ]
  },
  {
   "cell_type": "markdown",
   "id": "7e12f92e",
   "metadata": {},
   "source": [
    "### ساخت جدول یا تیبل"
   ]
  },
  {
   "cell_type": "code",
   "execution_count": null,
   "id": "4207a265",
   "metadata": {},
   "outputs": [],
   "source": [
    "conn = db.connect('my_bours.db')\n",
    "cur = conn.cursor()\n",
    "table_name = 'price_daily'\n",
    "\n",
    "# cur.execute(f\"\"\"CREATE TABLE IF NOT EXISTS {table_name}(\n",
    "   Date TEXT,\n",
    "   Time TEXT,\n",
    "   Open INT,\n",
    "   High INT,\n",
    "   Low INT,\n",
    "   Close INT,\n",
    "   Final INT,\n",
    "   Volume INT,\n",
    "   Value INT,\n",
    "   No INT,\n",
    "   Ticker TEXT PRIMARY KEY,\n",
    "   Name TEXT,\n",
    "   Market TEXT\n",
    "   )\n",
    "\"\"\")\n",
    "cur.close()\n",
    "conn.close()"
   ]
  },
  {
   "cell_type": "markdown",
   "id": "61480049",
   "metadata": {},
   "source": [
    "ساخت تیبل نیازی نبود\n",
    "### دریافت قیمت روزانه کل پرتفوی خودم و افزودن به دیتا بیس"
   ]
  },
  {
   "cell_type": "code",
   "execution_count": null,
   "id": "29917d3f",
   "metadata": {},
   "outputs": [],
   "source": [
    "\n",
    "\n",
    "conn = db.connect('my_bours2.db')\n",
    "cur = conn.cursor()\n",
    "\n",
    "\n",
    "for sym in my_pf:\n",
    "    df = fpy.Get_Price_History(\n",
    "                    stock=sym ,\n",
    "                    start_date='1402-03-21',\n",
    "                    end_date='1402-03-22',\n",
    "                    ignore_date=False,\n",
    "                    adjust_price=False,\n",
    "                    show_weekday=False,\n",
    "                    double_date=False)\n",
    "\n",
    "    df.reset_index(inplace=True)\n",
    "    df = df.rename(columns={\"J-Date\": \"Date\"})\n",
    "\n",
    "    #df.to_excel('ttt.xlsx',index=False)\n",
    "\n",
    "    df.to_sql('price_daily',conn,if_exists='append',index=False)\n",
    "    print(f'{sym} is added to db')\n",
    "\n",
    "\n",
    "\"\"\"\n",
    " df.to_sql(table_name,conn,if_exists='replace',index=False)\n",
    " \n",
    " # insert the dataframe into an existing table in the database file\n",
    " \n",
    " df.to_sql(tale_name, conn, if_exists='append', index=False)\n",
    "\"\"\"\n",
    "\n",
    "# close the connection object\n",
    "conn.commit()\n",
    "cur.close()\n",
    "conn.close()"
   ]
  },
  {
   "cell_type": "markdown",
   "id": "6fc04ce7",
   "metadata": {},
   "source": [
    "## دستورات پانداس برای نرمال کردن داده ها"
   ]
  },
  {
   "cell_type": "code",
   "execution_count": null,
   "id": "e94b9d7c",
   "metadata": {},
   "outputs": [],
   "source": [
    "df['length'] = df['length']/df['length'].max() # method 1 ) simple normalizing\n",
    "\n",
    "df['length'] = (df['length']-df['length'].min())/(df['lengh'].max()-df['lengh'].min()) # method 2 ) min-max method\n",
    "\n",
    "df['length'] = (df['length']-df['length'].mean())/df['length'].std()"
   ]
  },
  {
   "cell_type": "code",
   "execution_count": null,
   "id": "cfd018de",
   "metadata": {},
   "outputs": [],
   "source": []
  },
  {
   "cell_type": "markdown",
   "id": "9831f62f",
   "metadata": {},
   "source": [
    "### کويری گرفتن قیمت سهم در تاریخ دلخواه"
   ]
  },
  {
   "cell_type": "code",
   "execution_count": null,
   "id": "0ed47836",
   "metadata": {},
   "outputs": [],
   "source": [
    "\n",
    "conn = db.connect('my_bours2.db')\n",
    "df_query = pd.read_sql_query(\"SELECT  Ticker,Close, Date FROM price_daily WHERE Date BETWEEN '1402-01-14' AND '1402-01-20'\", conn)\n",
    "\n",
    "conn.close()\n",
    "df_query"
   ]
  },
  {
   "cell_type": "code",
   "execution_count": null,
   "id": "417932e6",
   "metadata": {},
   "outputs": [],
   "source": [
    "df_chart = df_query.sort_values('Date')"
   ]
  },
  {
   "cell_type": "code",
   "execution_count": null,
   "id": "d7848eab",
   "metadata": {},
   "outputs": [],
   "source": [
    "df_chart"
   ]
  },
  {
   "cell_type": "markdown",
   "id": "36e358db",
   "metadata": {},
   "source": [
    "## دریافت ریز معاملات"
   ]
  },
  {
   "cell_type": "code",
   "execution_count": null,
   "id": "9539e40a",
   "metadata": {},
   "outputs": [],
   "source": [
    "i = 0\n",
    "print(my_pf_eng[i])"
   ]
  },
  {
   "cell_type": "code",
   "execution_count": null,
   "id": "1f90f9d5",
   "metadata": {},
   "outputs": [],
   "source": [
    "symbol = my_pf[i]\n",
    "eng_symbol = my_pf_eng[i]\n",
    "df_price_details =fpy.Get_IntradayTrades_History(\n",
    "                    stock=symbol,\n",
    "                    start_date='1402-04-13',\n",
    "                    end_date='1402-04-14',\n",
    "                    jalali_date=True,\n",
    "                    combined_datatime=False,\n",
    "                    show_progress=True)\n",
    "df_price_details.head()"
   ]
  },
  {
   "cell_type": "markdown",
   "id": "33e36cee",
   "metadata": {},
   "source": [
    "اضافه کردن ریز معاملات به دیتا بیس"
   ]
  },
  {
   "cell_type": "code",
   "execution_count": null,
   "id": "77265e28",
   "metadata": {},
   "outputs": [],
   "source": [
    "conn = db.connect('my_bours_price_details.db')\n",
    "cur = conn.cursor()\n",
    "\n",
    "df_price_details.reset_index(inplace=True)\n",
    "df_price_details_new = df_price_details.rename(columns={\"J-Date\": \"Date\"})    \n",
    "df_price_details_new.to_sql(eng_symbol,conn,if_exists='append',index=False)\n",
    "\n",
    "conn.commit()\n",
    "cur.close()\n",
    "conn.close()"
   ]
  },
  {
   "cell_type": "markdown",
   "id": "19a71d31",
   "metadata": {},
   "source": [
    "## دریافت عمق فقط برای چند نماد"
   ]
  },
  {
   "cell_type": "code",
   "execution_count": null,
   "id": "ce7ac345",
   "metadata": {},
   "outputs": [],
   "source": [
    "startDate = '1402-01-28'\n",
    "endDate = '1402-01-30'\n",
    "\n",
    "conn = db.connect('my_bours_omgh.db')\n",
    "cur = conn.cursor()\n",
    "\n",
    "\n",
    "for sym,eng in zip(my_pf,my_pf_eng):\n",
    "    df_omgh = fpy.Get_IntradayOB_History(\n",
    "            stock=sym,\n",
    "            start_date= startDate,\n",
    "            end_date= endDate,\n",
    "            jalali_date=True,\n",
    "            combined_datatime=False,\n",
    "            show_progress=True)\n",
    "    \n",
    "    df_omgh.reset_index(inplace=True)\n",
    "    df_omgh_new = df_omgh.rename(columns={\"J-Date\": \"Date\"})    \n",
    "    df_omgh_new.to_sql(f'{eng}_omgh_daily',conn,if_exists='append',index=False)\n",
    "    print(f'{sym} is done')\n",
    "\n",
    "\n",
    "# close the connection object\n",
    "conn.commit()\n",
    "cur.close()\n",
    "conn.close()"
   ]
  },
  {
   "cell_type": "markdown",
   "id": "326286cd",
   "metadata": {},
   "source": [
    "## دریافت عمق فقط برای یک نماد"
   ]
  },
  {
   "cell_type": "code",
   "execution_count": null,
   "id": "f447d5f6",
   "metadata": {},
   "outputs": [],
   "source": [
    "i = 2\n",
    "print(my_pf_eng[i])\n",
    "symbol = my_pf[i]\n",
    "eng = my_pf_eng[i]"
   ]
  },
  {
   "cell_type": "code",
   "execution_count": null,
   "id": "c1254788",
   "metadata": {},
   "outputs": [],
   "source": [
    "startDate = '1402-04-10'\n",
    "endDate = '1402-04-14'\n",
    "stk = symbol\n",
    "\n",
    "conn = db.connect('my_bours_omgh.db')\n",
    "cur = conn.cursor()\n",
    "df_omgh = fpy.Get_IntradayOB_History(\n",
    "            stock= stk ,\n",
    "            start_date= startDate,\n",
    "            end_date= endDate,\n",
    "            jalali_date=True,\n",
    "            combined_datatime=False,\n",
    "            show_progress=True)\n",
    "print('done')\n",
    "\n",
    "df_omgh.reset_index(inplace=True)\n",
    "df_omgh = df_omgh.rename(columns={\"J-Date\": \"Date\"})\n",
    "df_omgh.to_sql(f'{eng}_omgh_daily',conn,if_exists='append',index=False)\n",
    "\n",
    "conn.commit()\n",
    "cur.close()\n",
    "conn.close()"
   ]
  },
  {
   "cell_type": "markdown",
   "id": "149c5b2b",
   "metadata": {},
   "source": [
    "##  دریافت سابقه ارزش صف در زمان بسته‌شدن بازار"
   ]
  },
  {
   "cell_type": "code",
   "execution_count": null,
   "id": "d5f7e3ad",
   "metadata": {},
   "outputs": [],
   "source": [
    "df_que = fpy.Get_Queue_History(\n",
    "            stock='توان',\n",
    "            start_date='1402-03-01',\n",
    "            end_date='1402-03-20',\n",
    "            show_per_capita=True,\n",
    "            show_weekday=False,\n",
    "            double_date=False,\n",
    "            show_progress=True)\n",
    "df_que"
   ]
  },
  {
   "cell_type": "markdown",
   "id": "67f36734",
   "metadata": {},
   "source": [
    "##  دریافت سابقه ارزش صف در زمان بسته‌شدن بازار"
   ]
  },
  {
   "cell_type": "code",
   "execution_count": null,
   "id": "eb852d73",
   "metadata": {},
   "outputs": [],
   "source": [
    "df_CWI = fpy.Get_CWI_History(\n",
    "            start_date='1402-01-05',\n",
    "            end_date='1402-03-21',\n",
    "            ignore_date=False,\n",
    "            just_adj_close=False,\n",
    "            show_weekday=True,\n",
    "            double_date=False)\n",
    "df_CWI"
   ]
  },
  {
   "cell_type": "markdown",
   "id": "508e43e5",
   "metadata": {},
   "source": [
    "## دریافت سابقه شاخص کل هم‌وزن"
   ]
  },
  {
   "cell_type": "code",
   "execution_count": null,
   "id": "b8fb2085",
   "metadata": {},
   "outputs": [],
   "source": [
    "df_EWI = fpy.Get_EWI_History(\n",
    "            start_date='1402-01-05',\n",
    "            end_date='1402-03-21',\n",
    "            ignore_date=False,\n",
    "            just_adj_close=True,\n",
    "            show_weekday=False,\n",
    "            double_date=False)\n",
    "df_EWI"
   ]
  },
  {
   "cell_type": "markdown",
   "id": "43502a7e",
   "metadata": {},
   "source": [
    "## دریافت سابقه شاخص 50 شرکت فعال‌تر"
   ]
  },
  {
   "cell_type": "code",
   "execution_count": null,
   "id": "75656785",
   "metadata": {},
   "outputs": [],
   "source": [
    "df_ACT50 = fpy.Get_ACT50_History(\n",
    "            start_date='1402-01-05',\n",
    "            end_date='1402-03-21',\n",
    "            ignore_date=False,\n",
    "            just_adj_close=False,\n",
    "            show_weekday=False,\n",
    "            double_date=False)\n",
    "df_ACT50"
   ]
  },
  {
   "cell_type": "markdown",
   "id": "7a04c947",
   "metadata": {},
   "source": [
    "## دریافت سابقه شاخص 30 شرکت بزرگ"
   ]
  },
  {
   "cell_type": "code",
   "execution_count": null,
   "id": "b8f06c78",
   "metadata": {},
   "outputs": [],
   "source": [
    "df_LCI30 = fpy.Get_LCI30_History(\n",
    "            start_date='1402-01-05',\n",
    "            end_date='1402-03-21',\n",
    "            ignore_date=False,\n",
    "            just_adj_close=False,\n",
    "            show_weekday=False,\n",
    "            double_date=False)\n",
    "df_LCI30"
   ]
  },
  {
   "cell_type": "code",
   "execution_count": null,
   "id": "f6db9ff1",
   "metadata": {},
   "outputs": [],
   "source": []
  }
 ],
 "metadata": {
  "kernelspec": {
   "display_name": "Python 3 (ipykernel)",
   "language": "python",
   "name": "python3"
  },
  "language_info": {
   "codemirror_mode": {
    "name": "ipython",
    "version": 3
   },
   "file_extension": ".py",
   "mimetype": "text/x-python",
   "name": "python",
   "nbconvert_exporter": "python",
   "pygments_lexer": "ipython3",
   "version": "3.9.16"
  }
 },
 "nbformat": 4,
 "nbformat_minor": 5
}
