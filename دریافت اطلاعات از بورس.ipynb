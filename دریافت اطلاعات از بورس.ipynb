{
 "cells": [
  {
   "cell_type": "code",
   "execution_count": null,
   "id": "0b70ca2e",
   "metadata": {},
   "outputs": [],
   "source": [
    "! pip install openpyxl"
   ]
  },
  {
   "cell_type": "code",
   "execution_count": 1,
   "id": "5c645752",
   "metadata": {},
   "outputs": [],
   "source": [
    "import finpy_tse as fpy\n",
    "import pandas as pd\n",
    "import sqlite3 as db"
   ]
  },
  {
   "cell_type": "code",
   "execution_count": 2,
   "id": "d7475c20",
   "metadata": {},
   "outputs": [],
   "source": [
    "portfollio = 'افران توان اوج پالایش وخارزم اعتلا وبوعلی تمشک گوهران وهامون ومدیر وتوسم وسبحان بوعلی وسکاب مدیریت وصنعت کیان وسپه ومهان'\n",
    "portfollio_eng = 'vmahan vsepah kian vsanaat modiriat vsakab booali vsobhan vtosam vmodir vhamoon goharan tameshk vbooali alaa vkharazm palayesh owj tavaan afran'\n",
    "my_pf = portfollio.split()\n",
    "my_pf_eng = portfollio_eng.split()\n",
    "my_pf_eng = my_pf_eng[::-1]"
   ]
  },
  {
   "cell_type": "markdown",
   "id": "37593fe0",
   "metadata": {},
   "source": [
    "اتصال به دیتابیس بورس"
   ]
  },
  {
   "cell_type": "markdown",
   "id": "4d6302a5",
   "metadata": {},
   "source": [
    "### جایگزین کردن پرتفوی جدید با پرتفوی قدیمی"
   ]
  },
  {
   "cell_type": "code",
   "execution_count": null,
   "id": "0198aaf7",
   "metadata": {},
   "outputs": [],
   "source": [
    "df_portfollio = pd.read_excel('portfollio.xlsx')\n",
    "conn = db.connect('bours.db')\n",
    "cur = conn.cursor()\n",
    "cur.execute(\"\"\"CREATE TABLE IF NOT EXISTS portfollio(\n",
    "    symbol TEXT PRIMARY KEY,\n",
    "    property INT,\n",
    "    average_purchase INT,\n",
    "    head_to_head INT,\n",
    "    last_price INT,\n",
    "    final_price INT,\n",
    "    cost INT,\n",
    "    current_value INT,\n",
    "    current_profit_percentage INT,\n",
    "    current_profit INT,\n",
    "    past_profit INT,\n",
    "    total_profit INT\n",
    "    )\n",
    "\"\"\")\n",
    "df_portfollio.to_sql('portfollio',conn,if_exists='replace',index=False)\n",
    "conn.commit()\n",
    "cur.close()\n",
    "conn.close()"
   ]
  },
  {
   "cell_type": "code",
   "execution_count": null,
   "id": "d16f498c",
   "metadata": {},
   "outputs": [],
   "source": []
  },
  {
   "cell_type": "markdown",
   "id": "be06a3bf",
   "metadata": {},
   "source": [
    "ابتدا عمق بازار دریافتی باید مناسب سازی جهت اضافه کردن با دیتابیس شود"
   ]
  },
  {
   "cell_type": "markdown",
   "id": "7e12f92e",
   "metadata": {},
   "source": [
    "### ساخت جدول یا تیبل"
   ]
  },
  {
   "cell_type": "code",
   "execution_count": null,
   "id": "4207a265",
   "metadata": {},
   "outputs": [],
   "source": [
    "conn = db.connect('my_bours.db')\n",
    "cur = conn.cursor()\n",
    "table_name = 'price_daily'\n",
    "\n",
    "# cur.execute(f\"\"\"CREATE TABLE IF NOT EXISTS {table_name}(\n",
    "   Date TEXT,\n",
    "   Time TEXT,\n",
    "   Open INT,\n",
    "   High INT,\n",
    "   Low INT,\n",
    "   Close INT,\n",
    "   Final INT,\n",
    "   Volume INT,\n",
    "   Value INT,\n",
    "   No INT,\n",
    "   Ticker TEXT PRIMARY KEY,\n",
    "   Name TEXT,\n",
    "   Market TEXT\n",
    "   )\n",
    "\"\"\")\n",
    "cur.close()\n",
    "conn.close()"
   ]
  },
  {
   "cell_type": "markdown",
   "id": "61480049",
   "metadata": {},
   "source": [
    "ساخت تیبل نیازی نبود\n",
    "### دریافت قیمت روزانه کل پرتفوی خودم و افزودن به دیتا بیس"
   ]
  },
  {
   "cell_type": "code",
   "execution_count": null,
   "id": "29917d3f",
   "metadata": {},
   "outputs": [],
   "source": [
    "\n",
    "\n",
    "conn = db.connect('my_bours2.db')\n",
    "cur = conn.cursor()\n",
    "\n",
    "\n",
    "for sym in my_pf:\n",
    "    df = fpy.Get_Price_History(\n",
    "                    stock=sym ,\n",
    "                    start_date='1402-03-21',\n",
    "                    end_date='1402-03-22',\n",
    "                    ignore_date=False,\n",
    "                    adjust_price=False,\n",
    "                    show_weekday=False,\n",
    "                    double_date=False)\n",
    "\n",
    "    df.reset_index(inplace=True)\n",
    "    df = df.rename(columns={\"J-Date\": \"Date\"})\n",
    "\n",
    "    #df.to_excel('ttt.xlsx',index=False)\n",
    "\n",
    "    df.to_sql('price_daily',conn,if_exists='append',index=False)\n",
    "    print(f'{sym} is added to db')\n",
    "\n",
    "\n",
    "\"\"\"\n",
    " df.to_sql(table_name,conn,if_exists='replace',index=False)\n",
    " \n",
    " # insert the dataframe into an existing table in the database file\n",
    " \n",
    " df.to_sql(tale_name, conn, if_exists='append', index=False)\n",
    "\"\"\"\n",
    "\n",
    "# close the connection object\n",
    "conn.commit()\n",
    "cur.close()\n",
    "conn.close()"
   ]
  },
  {
   "cell_type": "markdown",
   "id": "6fc04ce7",
   "metadata": {},
   "source": [
    "## دستورات پانداس برای نرمال کردن داده ها"
   ]
  },
  {
   "cell_type": "code",
   "execution_count": null,
   "id": "e94b9d7c",
   "metadata": {},
   "outputs": [],
   "source": [
    "df['length'] = df['length']/df['length'].max() # method 1 ) simple normalizing\n",
    "\n",
    "df['length'] = (df['length']-df['length'].min())/(df['lengh'].max()-df['lengh'].min()) # method 2 ) min-max method\n",
    "\n",
    "df['length'] = (df['length']-df['length'].mean())/df['length'].std()"
   ]
  },
  {
   "cell_type": "code",
   "execution_count": null,
   "id": "cfd018de",
   "metadata": {},
   "outputs": [],
   "source": []
  },
  {
   "cell_type": "markdown",
   "id": "9831f62f",
   "metadata": {},
   "source": [
    "### کويری گرفتن قیمت سهم در تاریخ دلخواه"
   ]
  },
  {
   "cell_type": "code",
   "execution_count": null,
   "id": "0ed47836",
   "metadata": {},
   "outputs": [],
   "source": [
    "\n",
    "conn = db.connect('my_bours2.db')\n",
    "df_query = pd.read_sql_query(\"SELECT  Ticker,Close, Date FROM price_daily WHERE Date BETWEEN '1402-01-14' AND '1402-01-20'\", conn)\n",
    "\n",
    "conn.close()\n",
    "df_query"
   ]
  },
  {
   "cell_type": "code",
   "execution_count": null,
   "id": "417932e6",
   "metadata": {},
   "outputs": [],
   "source": [
    "df_chart = df_query.sort_values('Date')"
   ]
  },
  {
   "cell_type": "code",
   "execution_count": null,
   "id": "d7848eab",
   "metadata": {},
   "outputs": [],
   "source": [
    "df_chart"
   ]
  },
  {
   "cell_type": "markdown",
   "id": "36e358db",
   "metadata": {},
   "source": [
    "## دریافت ریز معاملات"
   ]
  },
  {
   "cell_type": "code",
   "execution_count": 73,
   "id": "9539e40a",
   "metadata": {},
   "outputs": [
    {
     "name": "stdout",
     "output_type": "stream",
     "text": [
      "afran\n"
     ]
    }
   ],
   "source": [
    "i = 0\n",
    "print(my_pf_eng[i])"
   ]
  },
  {
   "cell_type": "code",
   "execution_count": 68,
   "id": "1f90f9d5",
   "metadata": {},
   "outputs": [
    {
     "name": "stdout",
     "output_type": "stream",
     "text": [
      "Progress :  100.0 %\n"
     ]
    },
    {
     "data": {
      "text/html": [
       "<div>\n",
       "<style scoped>\n",
       "    .dataframe tbody tr th:only-of-type {\n",
       "        vertical-align: middle;\n",
       "    }\n",
       "\n",
       "    .dataframe tbody tr th {\n",
       "        vertical-align: top;\n",
       "    }\n",
       "\n",
       "    .dataframe thead th {\n",
       "        text-align: right;\n",
       "    }\n",
       "</style>\n",
       "<table border=\"1\" class=\"dataframe\">\n",
       "  <thead>\n",
       "    <tr style=\"text-align: right;\">\n",
       "      <th></th>\n",
       "      <th></th>\n",
       "      <th>Volume</th>\n",
       "      <th>Price</th>\n",
       "    </tr>\n",
       "    <tr>\n",
       "      <th>J-Date</th>\n",
       "      <th>Time</th>\n",
       "      <th></th>\n",
       "      <th></th>\n",
       "    </tr>\n",
       "  </thead>\n",
       "  <tbody>\n",
       "    <tr>\n",
       "      <th rowspan=\"5\" valign=\"top\">1402-04-13</th>\n",
       "      <th>09:26:47</th>\n",
       "      <td>467</td>\n",
       "      <td>17389</td>\n",
       "    </tr>\n",
       "    <tr>\n",
       "      <th>09:29:22</th>\n",
       "      <td>10149</td>\n",
       "      <td>17420</td>\n",
       "    </tr>\n",
       "    <tr>\n",
       "      <th>09:29:22</th>\n",
       "      <td>1500</td>\n",
       "      <td>17420</td>\n",
       "    </tr>\n",
       "    <tr>\n",
       "      <th>09:29:22</th>\n",
       "      <td>9148</td>\n",
       "      <td>17440</td>\n",
       "    </tr>\n",
       "    <tr>\n",
       "      <th>09:29:22</th>\n",
       "      <td>5159</td>\n",
       "      <td>17443</td>\n",
       "    </tr>\n",
       "  </tbody>\n",
       "</table>\n",
       "</div>"
      ],
      "text/plain": [
       "                     Volume  Price\n",
       "J-Date     Time                   \n",
       "1402-04-13 09:26:47     467  17389\n",
       "           09:29:22   10149  17420\n",
       "           09:29:22    1500  17420\n",
       "           09:29:22    9148  17440\n",
       "           09:29:22    5159  17443"
      ]
     },
     "execution_count": 68,
     "metadata": {},
     "output_type": "execute_result"
    }
   ],
   "source": [
    "symbol = my_pf[i]\n",
    "eng_symbol = my_pf_eng[i]\n",
    "df_price_details =fpy.Get_IntradayTrades_History(\n",
    "                    stock=symbol,\n",
    "                    start_date='1402-04-13',\n",
    "                    end_date='1402-04-14',\n",
    "                    jalali_date=True,\n",
    "                    combined_datatime=False,\n",
    "                    show_progress=True)\n",
    "df_price_details.head()"
   ]
  },
  {
   "cell_type": "markdown",
   "id": "33e36cee",
   "metadata": {},
   "source": [
    "اضافه کردن ریز معاملات به دیتا بیس"
   ]
  },
  {
   "cell_type": "code",
   "execution_count": 69,
   "id": "77265e28",
   "metadata": {},
   "outputs": [],
   "source": [
    "conn = db.connect('my_bours_price_details.db')\n",
    "cur = conn.cursor()\n",
    "\n",
    "df_price_details.reset_index(inplace=True)\n",
    "df_price_details_new = df_price_details.rename(columns={\"J-Date\": \"Date\"})    \n",
    "df_price_details_new.to_sql(eng_symbol,conn,if_exists='append',index=False)\n",
    "\n",
    "conn.commit()\n",
    "cur.close()\n",
    "conn.close()"
   ]
  },
  {
   "cell_type": "markdown",
   "id": "19a71d31",
   "metadata": {},
   "source": [
    "## دریافت عمق فقط برای چند نماد"
   ]
  },
  {
   "cell_type": "code",
   "execution_count": null,
   "id": "ce7ac345",
   "metadata": {},
   "outputs": [],
   "source": [
    "startDate = '1402-01-28'\n",
    "endDate = '1402-01-30'\n",
    "\n",
    "conn = db.connect('my_bours_omgh.db')\n",
    "cur = conn.cursor()\n",
    "\n",
    "\n",
    "for sym,eng in zip(my_pf,my_pf_eng):\n",
    "    df_omgh = fpy.Get_IntradayOB_History(\n",
    "            stock=sym,\n",
    "            start_date= startDate,\n",
    "            end_date= endDate,\n",
    "            jalali_date=True,\n",
    "            combined_datatime=False,\n",
    "            show_progress=True)\n",
    "    \n",
    "    df_omgh.reset_index(inplace=True)\n",
    "    df_omgh_new = df_omgh.rename(columns={\"J-Date\": \"Date\"})    \n",
    "    df_omgh_new.to_sql(f'{eng}_omgh_daily',conn,if_exists='append',index=False)\n",
    "    print(f'{sym} is done')\n",
    "\n",
    "\n",
    "# close the connection object\n",
    "conn.commit()\n",
    "cur.close()\n",
    "conn.close()"
   ]
  },
  {
   "cell_type": "markdown",
   "id": "326286cd",
   "metadata": {},
   "source": [
    "## دریافت عمق فقط برای یک نماد"
   ]
  },
  {
   "cell_type": "code",
   "execution_count": 125,
   "id": "f447d5f6",
   "metadata": {},
   "outputs": [
    {
     "name": "stdout",
     "output_type": "stream",
     "text": [
      "owj\n"
     ]
    }
   ],
   "source": [
    "i = 2\n",
    "print(my_pf_eng[i])\n",
    "symbol = my_pf[i]\n",
    "eng = my_pf_eng[i]"
   ]
  },
  {
   "cell_type": "code",
   "execution_count": 123,
   "id": "c1254788",
   "metadata": {},
   "outputs": [
    {
     "name": "stdout",
     "output_type": "stream",
     "text": [
      "Progress :  100.0 %\n",
      "done\n"
     ]
    }
   ],
   "source": [
    "startDate = '1402-04-10'\n",
    "endDate = '1402-04-14'\n",
    "stk = symbol\n",
    "\n",
    "conn = db.connect('my_bours_omgh.db')\n",
    "cur = conn.cursor()\n",
    "df_omgh = fpy.Get_IntradayOB_History(\n",
    "            stock= stk ,\n",
    "            start_date= startDate,\n",
    "            end_date= endDate,\n",
    "            jalali_date=True,\n",
    "            combined_datatime=False,\n",
    "            show_progress=True)\n",
    "print('done')\n",
    "\n",
    "df_omgh.reset_index(inplace=True)\n",
    "df_omgh = df_omgh.rename(columns={\"J-Date\": \"Date\"})\n",
    "df_omgh.to_sql(f'{eng}_omgh_daily',conn,if_exists='append',index=False)\n",
    "\n",
    "conn.commit()\n",
    "cur.close()\n",
    "conn.close()"
   ]
  },
  {
   "cell_type": "markdown",
   "id": "149c5b2b",
   "metadata": {},
   "source": [
    "##  دریافت سابقه ارزش صف در زمان بسته‌شدن بازار"
   ]
  },
  {
   "cell_type": "code",
   "execution_count": 118,
   "id": "d5f7e3ad",
   "metadata": {},
   "outputs": [
    {
     "name": "stdout",
     "output_type": "stream",
     "text": [
      "Progress :  100.0 %\n"
     ]
    },
    {
     "data": {
      "text/html": [
       "<div>\n",
       "<style scoped>\n",
       "    .dataframe tbody tr th:only-of-type {\n",
       "        vertical-align: middle;\n",
       "    }\n",
       "\n",
       "    .dataframe tbody tr th {\n",
       "        vertical-align: top;\n",
       "    }\n",
       "\n",
       "    .dataframe thead th {\n",
       "        text-align: right;\n",
       "    }\n",
       "</style>\n",
       "<table border=\"1\" class=\"dataframe\">\n",
       "  <thead>\n",
       "    <tr style=\"text-align: right;\">\n",
       "      <th></th>\n",
       "      <th>Day_UL</th>\n",
       "      <th>Day_LL</th>\n",
       "      <th>Value</th>\n",
       "      <th>Time</th>\n",
       "      <th>BQ_Value</th>\n",
       "      <th>SQ_Value</th>\n",
       "      <th>BQPC</th>\n",
       "      <th>SQPC</th>\n",
       "    </tr>\n",
       "    <tr>\n",
       "      <th>J-Date</th>\n",
       "      <th></th>\n",
       "      <th></th>\n",
       "      <th></th>\n",
       "      <th></th>\n",
       "      <th></th>\n",
       "      <th></th>\n",
       "      <th></th>\n",
       "      <th></th>\n",
       "    </tr>\n",
       "  </thead>\n",
       "  <tbody>\n",
       "    <tr>\n",
       "      <th>1402-03-01</th>\n",
       "      <td>18729</td>\n",
       "      <td>22889</td>\n",
       "      <td>1051683869514</td>\n",
       "      <td>12:30:00</td>\n",
       "      <td>0</td>\n",
       "      <td>0</td>\n",
       "      <td>0</td>\n",
       "      <td>0</td>\n",
       "    </tr>\n",
       "    <tr>\n",
       "      <th>1402-03-02</th>\n",
       "      <td>19061</td>\n",
       "      <td>23295</td>\n",
       "      <td>957971538612</td>\n",
       "      <td>12:30:00</td>\n",
       "      <td>0</td>\n",
       "      <td>0</td>\n",
       "      <td>0</td>\n",
       "      <td>0</td>\n",
       "    </tr>\n",
       "    <tr>\n",
       "      <th>1402-03-03</th>\n",
       "      <td>19007</td>\n",
       "      <td>23229</td>\n",
       "      <td>807288854395</td>\n",
       "      <td>12:29:59</td>\n",
       "      <td>0</td>\n",
       "      <td>0</td>\n",
       "      <td>0</td>\n",
       "      <td>0</td>\n",
       "    </tr>\n",
       "    <tr>\n",
       "      <th>1402-03-06</th>\n",
       "      <td>19300</td>\n",
       "      <td>23588</td>\n",
       "      <td>539209625597</td>\n",
       "      <td>12:29:00</td>\n",
       "      <td>0</td>\n",
       "      <td>0</td>\n",
       "      <td>0</td>\n",
       "      <td>0</td>\n",
       "    </tr>\n",
       "    <tr>\n",
       "      <th>1402-03-07</th>\n",
       "      <td>18614</td>\n",
       "      <td>22750</td>\n",
       "      <td>964254421040</td>\n",
       "      <td>12:30:00</td>\n",
       "      <td>0</td>\n",
       "      <td>0</td>\n",
       "      <td>0</td>\n",
       "      <td>0</td>\n",
       "    </tr>\n",
       "    <tr>\n",
       "      <th>1402-03-08</th>\n",
       "      <td>17756</td>\n",
       "      <td>21700</td>\n",
       "      <td>633582247731</td>\n",
       "      <td>12:29:59</td>\n",
       "      <td>0</td>\n",
       "      <td>0</td>\n",
       "      <td>0</td>\n",
       "      <td>0</td>\n",
       "    </tr>\n",
       "    <tr>\n",
       "      <th>1402-03-09</th>\n",
       "      <td>17993</td>\n",
       "      <td>21991</td>\n",
       "      <td>785654385549</td>\n",
       "      <td>12:30:00</td>\n",
       "      <td>0</td>\n",
       "      <td>0</td>\n",
       "      <td>0</td>\n",
       "      <td>0</td>\n",
       "    </tr>\n",
       "    <tr>\n",
       "      <th>1402-03-10</th>\n",
       "      <td>17957</td>\n",
       "      <td>21947</td>\n",
       "      <td>776824363587</td>\n",
       "      <td>12:29:59</td>\n",
       "      <td>0</td>\n",
       "      <td>0</td>\n",
       "      <td>0</td>\n",
       "      <td>0</td>\n",
       "    </tr>\n",
       "    <tr>\n",
       "      <th>1402-03-13</th>\n",
       "      <td>17682</td>\n",
       "      <td>21610</td>\n",
       "      <td>224338225132</td>\n",
       "      <td>12:29:50</td>\n",
       "      <td>0</td>\n",
       "      <td>0</td>\n",
       "      <td>0</td>\n",
       "      <td>0</td>\n",
       "    </tr>\n",
       "    <tr>\n",
       "      <th>1402-03-16</th>\n",
       "      <td>17871</td>\n",
       "      <td>21841</td>\n",
       "      <td>460667271310</td>\n",
       "      <td>12:29:46</td>\n",
       "      <td>0</td>\n",
       "      <td>0</td>\n",
       "      <td>0</td>\n",
       "      <td>0</td>\n",
       "    </tr>\n",
       "    <tr>\n",
       "      <th>1402-03-17</th>\n",
       "      <td>17995</td>\n",
       "      <td>21993</td>\n",
       "      <td>278739204391</td>\n",
       "      <td>12:30:00</td>\n",
       "      <td>0</td>\n",
       "      <td>0</td>\n",
       "      <td>0</td>\n",
       "      <td>0</td>\n",
       "    </tr>\n",
       "    <tr>\n",
       "      <th>1402-03-20</th>\n",
       "      <td>17850</td>\n",
       "      <td>21816</td>\n",
       "      <td>591040721856</td>\n",
       "      <td>12:30:00</td>\n",
       "      <td>0</td>\n",
       "      <td>0</td>\n",
       "      <td>0</td>\n",
       "      <td>0</td>\n",
       "    </tr>\n",
       "  </tbody>\n",
       "</table>\n",
       "</div>"
      ],
      "text/plain": [
       "            Day_UL  Day_LL          Value      Time  BQ_Value  SQ_Value  BQPC  \\\n",
       "J-Date                                                                          \n",
       "1402-03-01   18729   22889  1051683869514  12:30:00         0         0     0   \n",
       "1402-03-02   19061   23295   957971538612  12:30:00         0         0     0   \n",
       "1402-03-03   19007   23229   807288854395  12:29:59         0         0     0   \n",
       "1402-03-06   19300   23588   539209625597  12:29:00         0         0     0   \n",
       "1402-03-07   18614   22750   964254421040  12:30:00         0         0     0   \n",
       "1402-03-08   17756   21700   633582247731  12:29:59         0         0     0   \n",
       "1402-03-09   17993   21991   785654385549  12:30:00         0         0     0   \n",
       "1402-03-10   17957   21947   776824363587  12:29:59         0         0     0   \n",
       "1402-03-13   17682   21610   224338225132  12:29:50         0         0     0   \n",
       "1402-03-16   17871   21841   460667271310  12:29:46         0         0     0   \n",
       "1402-03-17   17995   21993   278739204391  12:30:00         0         0     0   \n",
       "1402-03-20   17850   21816   591040721856  12:30:00         0         0     0   \n",
       "\n",
       "            SQPC  \n",
       "J-Date            \n",
       "1402-03-01     0  \n",
       "1402-03-02     0  \n",
       "1402-03-03     0  \n",
       "1402-03-06     0  \n",
       "1402-03-07     0  \n",
       "1402-03-08     0  \n",
       "1402-03-09     0  \n",
       "1402-03-10     0  \n",
       "1402-03-13     0  \n",
       "1402-03-16     0  \n",
       "1402-03-17     0  \n",
       "1402-03-20     0  "
      ]
     },
     "execution_count": 118,
     "metadata": {},
     "output_type": "execute_result"
    }
   ],
   "source": [
    "df_que = fpy.Get_Queue_History(\n",
    "            stock='توان',\n",
    "            start_date='1402-03-01',\n",
    "            end_date='1402-03-20',\n",
    "            show_per_capita=True,\n",
    "            show_weekday=False,\n",
    "            double_date=False,\n",
    "            show_progress=True)\n",
    "df_que"
   ]
  },
  {
   "cell_type": "markdown",
   "id": "67f36734",
   "metadata": {},
   "source": [
    "##  دریافت سابقه ارزش صف در زمان بسته‌شدن بازار"
   ]
  },
  {
   "cell_type": "code",
   "execution_count": null,
   "id": "eb852d73",
   "metadata": {},
   "outputs": [],
   "source": [
    "df_CWI = fpy.Get_CWI_History(\n",
    "            start_date='1402-01-05',\n",
    "            end_date='1402-03-21',\n",
    "            ignore_date=False,\n",
    "            just_adj_close=False,\n",
    "            show_weekday=True,\n",
    "            double_date=False)\n",
    "df_CWI"
   ]
  },
  {
   "cell_type": "markdown",
   "id": "508e43e5",
   "metadata": {},
   "source": [
    "## دریافت سابقه شاخص کل هم‌وزن"
   ]
  },
  {
   "cell_type": "code",
   "execution_count": null,
   "id": "b8fb2085",
   "metadata": {},
   "outputs": [],
   "source": [
    "df_EWI = fpy.Get_EWI_History(\n",
    "            start_date='1402-01-05',\n",
    "            end_date='1402-03-21',\n",
    "            ignore_date=False,\n",
    "            just_adj_close=True,\n",
    "            show_weekday=False,\n",
    "            double_date=False)\n",
    "df_EWI"
   ]
  },
  {
   "cell_type": "markdown",
   "id": "43502a7e",
   "metadata": {},
   "source": [
    "## دریافت سابقه شاخص 50 شرکت فعال‌تر"
   ]
  },
  {
   "cell_type": "code",
   "execution_count": null,
   "id": "75656785",
   "metadata": {},
   "outputs": [],
   "source": [
    "df_ACT50 = fpy.Get_ACT50_History(\n",
    "            start_date='1402-01-05',\n",
    "            end_date='1402-03-21',\n",
    "            ignore_date=False,\n",
    "            just_adj_close=False,\n",
    "            show_weekday=False,\n",
    "            double_date=False)\n",
    "df_ACT50"
   ]
  },
  {
   "cell_type": "markdown",
   "id": "7a04c947",
   "metadata": {},
   "source": [
    "## دریافت سابقه شاخص 30 شرکت بزرگ"
   ]
  },
  {
   "cell_type": "code",
   "execution_count": null,
   "id": "b8f06c78",
   "metadata": {},
   "outputs": [],
   "source": [
    "df_LCI30 = fpy.Get_LCI30_History(\n",
    "            start_date='1402-01-05',\n",
    "            end_date='1402-03-21',\n",
    "            ignore_date=False,\n",
    "            just_adj_close=False,\n",
    "            show_weekday=False,\n",
    "            double_date=False)\n",
    "df_LCI30"
   ]
  },
  {
   "cell_type": "code",
   "execution_count": null,
   "id": "f6db9ff1",
   "metadata": {},
   "outputs": [],
   "source": []
  }
 ],
 "metadata": {
  "kernelspec": {
   "display_name": "Python 3 (ipykernel)",
   "language": "python",
   "name": "python3"
  },
  "language_info": {
   "codemirror_mode": {
    "name": "ipython",
    "version": 3
   },
   "file_extension": ".py",
   "mimetype": "text/x-python",
   "name": "python",
   "nbconvert_exporter": "python",
   "pygments_lexer": "ipython3",
   "version": "3.9.16"
  }
 },
 "nbformat": 4,
 "nbformat_minor": 5
}
